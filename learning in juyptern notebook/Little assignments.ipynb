{
 "cells": [
  {
   "cell_type": "markdown",
   "id": "63df0d05",
   "metadata": {},
   "source": [
    "# Body mass indes (BMI)\n"
   ]
  },
  {
   "cell_type": "code",
   "execution_count": 4,
   "id": "acf87378",
   "metadata": {},
   "outputs": [
    {
     "name": "stdout",
     "output_type": "stream",
     "text": [
      "what is your nameNaeem\n",
      "what is your weight in kilogram83\n",
      "what is your height in meters1.72\n",
      "28.055705786911847\n"
     ]
    }
   ],
   "source": [
    "n=input(\"what is your name\")\n",
    "w=float(input(\"what is your weight in kilogram\"))\n",
    "h=float(input(\"what is your height in meters\"))\n",
    "bmi=w/(h*h)\n",
    "print(bmi)"
   ]
  }
 ],
 "metadata": {
  "kernelspec": {
   "display_name": "Python 3 (ipykernel)",
   "language": "python",
   "name": "python3"
  },
  "language_info": {
   "codemirror_mode": {
    "name": "ipython",
    "version": 3
   },
   "file_extension": ".py",
   "mimetype": "text/x-python",
   "name": "python",
   "nbconvert_exporter": "python",
   "pygments_lexer": "ipython3",
   "version": "3.10.9"
  }
 },
 "nbformat": 4,
 "nbformat_minor": 5
}
