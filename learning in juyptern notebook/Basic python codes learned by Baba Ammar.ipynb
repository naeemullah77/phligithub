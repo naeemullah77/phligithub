{
 "cells": [
  {
   "cell_type": "markdown",
   "id": "f0ffdff4",
   "metadata": {},
   "source": [
    "#Python ka chilla by baba Ammar\n",
    "\n",
    "##python basic programme\n",
    "\n",
    "**01_python first programme**"
   ]
  },
  {
   "cell_type": "code",
   "execution_count": 1,
   "id": "d4a9ad5d",
   "metadata": {},
   "outputs": [
    {
     "name": "stdout",
     "output_type": "stream",
     "text": [
      "8\n"
     ]
    }
   ],
   "source": [
    "print(2+6)"
   ]
  },
  {
   "cell_type": "markdown",
   "id": "5860364c",
   "metadata": {},
   "source": [
    "**02_input varibles**"
   ]
  },
  {
   "cell_type": "code",
   "execution_count": 2,
   "id": "73d32863",
   "metadata": {},
   "outputs": [
    {
     "name": "stdout",
     "output_type": "stream",
     "text": [
      "what is your name? Naeem\n",
      "choky sala da hay? 26\n",
      "salam Naeem haly theek vada hay\n"
     ]
    }
   ],
   "source": [
    "#age=\"10\"\n",
    "#print(age)\n",
    "#age=input(\"what is your age?\")\n",
    "#print(age)\n",
    "# input function of second stage\n",
    "#name=input(\"what is your real name? \")\n",
    "#dua_salam=\"kya hal hin \"\n",
    "#print(dua_salam, name)\n",
    "# input function of third stage\n",
    "name=input(\"what is your name? \")\n",
    "age=input(\"choky sala da hay? \")\n",
    "print(\"salam\",name,\"haly theek vada hay\")"
   ]
  },
  {
   "cell_type": "markdown",
   "id": "c66a2b8a",
   "metadata": {},
   "source": [
    "**03_Conditinoal logics**"
   ]
  },
  {
   "cell_type": "code",
   "execution_count": null,
   "id": "3f2fd5be",
   "metadata": {},
   "outputs": [],
   "source": [
    "# logical operators\n",
    "# equal to                      ==\n",
    "# less than                     <\n",
    "#greater than                   >\n",
    "#less than and equal to         <=\n",
    "#print(4==4)\n",
    "#print(4!=4)\n",
    "# input and logical operators\n",
    "min_qualifiaction=int(input(\"what is your min_qualifaction? \"))\n",
    "print(min_qualifiaction==16)\n"
   ]
  },
  {
   "cell_type": "code",
   "execution_count": null,
   "id": "3ce6215f",
   "metadata": {},
   "outputs": [],
   "source": [
    "**04_Type conversion**"
   ]
  },
  {
   "cell_type": "code",
   "execution_count": null,
   "id": "ab8cfbef",
   "metadata": {},
   "outputs": [],
   "source": [
    "x=10\n",
    "y=2.5\n",
    "z=\"hell0\"\n",
    "x=x*y\n",
    "print(type(x),type(y),type(z))\n",
    "age=input(\"what is your age? \")\n",
    "print(age, type(int(age)))"
   ]
  },
  {
   "cell_type": "code",
   "execution_count": null,
   "id": "88851191",
   "metadata": {},
   "outputs": [],
   "source": [
    "**05_If else and elif**"
   ]
  },
  {
   "cell_type": "code",
   "execution_count": null,
   "id": "d490c53b",
   "metadata": {},
   "outputs": [],
   "source": [
    "hamza_age=2\n",
    "required_age_at_school=5\n",
    "if hamza_age==required_age_at_school:\n",
    "    print(\"yes he can join the school\")\n",
    "elif hamza_age > required_age_at_school:\n",
    "    print(\"He should go to the college\")\n",
    "elif hamza_age==2:\n",
    "    print(\"you should care him\")\n",
    "else:\n",
    "    print(\"sorry he cannot join the school\")"
   ]
  },
  {
   "cell_type": "code",
   "execution_count": null,
   "id": "fa11945b",
   "metadata": {},
   "outputs": [],
   "source": [
    "**06_Functions**"
   ]
  },
  {
   "cell_type": "code",
   "execution_count": null,
   "id": "61dc2a82",
   "metadata": {},
   "outputs": [],
   "source": [
    "# defining a function\n",
    "#def print_naeem():\n",
    " #   text=\"how are you\"\n",
    "  #  print(text)\n",
    "   # print(text)\n",
    "    #print(text)\n",
    "#print_naeem()\n",
    "# method 2(if else and elif) \n",
    "def print_school_age_calculator(age):\n",
    "    if age==2:\n",
    "        print(\"he cannot join the school\")\n",
    "    elif age>2:\n",
    "        print(\"he can join the school\")\n",
    "    else:\n",
    "        print(\"he is still a baby\")\n",
    "print_school_age_calculator(3)"
   ]
  },
  {
   "cell_type": "markdown",
   "id": "15717bfc",
   "metadata": {},
   "source": [
    "**07_Loops**"
   ]
  },
  {
   "cell_type": "code",
   "execution_count": 8,
   "id": "7f06d105",
   "metadata": {},
   "outputs": [
    {
     "name": "stdout",
     "output_type": "stream",
     "text": [
      "0\n",
      "1\n",
      "2\n",
      "3\n",
      "4\n",
      "5\n",
      "6\n",
      "7\n",
      "8\n",
      "9\n"
     ]
    }
   ],
   "source": [
    "x=0\n",
    "while(x<10):\n",
    "    print(x)\n",
    "    x=x+1"
   ]
  },
  {
   "cell_type": "code",
   "execution_count": null,
   "id": "f6c8585d",
   "metadata": {},
   "outputs": [],
   "source": []
  }
 ],
 "metadata": {
  "kernelspec": {
   "display_name": "Python 3 (ipykernel)",
   "language": "python",
   "name": "python3"
  },
  "language_info": {
   "codemirror_mode": {
    "name": "ipython",
    "version": 3
   },
   "file_extension": ".py",
   "mimetype": "text/x-python",
   "name": "python",
   "nbconvert_exporter": "python",
   "pygments_lexer": "ipython3",
   "version": "3.10.9"
  }
 },
 "nbformat": 4,
 "nbformat_minor": 5
}
