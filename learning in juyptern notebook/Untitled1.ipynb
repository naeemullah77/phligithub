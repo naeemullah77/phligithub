{
 "cells": [
  {
   "cell_type": "code",
   "execution_count": 22,
   "id": "7c872bd4",
   "metadata": {},
   "outputs": [
    {
     "name": "stdout",
     "output_type": "stream",
     "text": [
      "choose your first letter a\n",
      "['-', 'a', '-', 'a', '-']\n",
      "salan\n"
     ]
    }
   ],
   "source": [
    "import random\n",
    "word_list=[\"roti\",\"salan\",\"kheery\"]\n",
    "guess=input(\"choose your first letter \")\n",
    "chosen_word=random.choice(word_list)\n",
    "\n",
    "chosen_list=[]\n",
    "for i in chosen_word:\n",
    "    if i==guess:\n",
    "          chosen_list.append(guess)\n",
    "    else:\n",
    "           chosen_list.append('-')\n",
    "print(chosen_list)\n",
    "print(chosen_word)"
   ]
  }
 ],
 "metadata": {
  "kernelspec": {
   "display_name": "Python 3 (ipykernel)",
   "language": "python",
   "name": "python3"
  },
  "language_info": {
   "codemirror_mode": {
    "name": "ipython",
    "version": 3
   },
   "file_extension": ".py",
   "mimetype": "text/x-python",
   "name": "python",
   "nbconvert_exporter": "python",
   "pygments_lexer": "ipython3",
   "version": "3.10.9"
  }
 },
 "nbformat": 4,
 "nbformat_minor": 5
}
