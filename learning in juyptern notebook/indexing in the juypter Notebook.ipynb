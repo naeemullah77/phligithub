{
 "cells": [
  {
   "cell_type": "markdown",
   "id": "59ed10ca",
   "metadata": {},
   "source": [
    "#-indexing"
   ]
  },
  {
   "cell_type": "code",
   "execution_count": 7,
   "id": "f46c1c8c",
   "metadata": {},
   "outputs": [
    {
     "data": {
      "text/plain": [
       "'n'"
      ]
     },
     "execution_count": 7,
     "metadata": {},
     "output_type": "execute_result"
    }
   ],
   "source": [
    "n=\"thnda tarbooz\"\n",
    "n[2]"
   ]
  },
  {
   "cell_type": "code",
   "execution_count": 8,
   "id": "83d710dc",
   "metadata": {},
   "outputs": [
    {
     "data": {
      "text/plain": [
       "' '"
      ]
     },
     "execution_count": 8,
     "metadata": {},
     "output_type": "execute_result"
    }
   ],
   "source": [
    "n[5]"
   ]
  },
  {
   "cell_type": "code",
   "execution_count": 9,
   "id": "aa4ce60c",
   "metadata": {},
   "outputs": [
    {
     "data": {
      "text/plain": [
       "'a'"
      ]
     },
     "execution_count": 9,
     "metadata": {},
     "output_type": "execute_result"
    }
   ],
   "source": [
    "n[7]"
   ]
  },
  {
   "cell_type": "code",
   "execution_count": 12,
   "id": "c7a4b87c",
   "metadata": {},
   "outputs": [
    {
     "data": {
      "text/plain": [
       "'thnda tarbooz'"
      ]
     },
     "execution_count": 12,
     "metadata": {},
     "output_type": "execute_result"
    }
   ],
   "source": [
    "n"
   ]
  },
  {
   "cell_type": "code",
   "execution_count": 14,
   "id": "f033dd29",
   "metadata": {},
   "outputs": [
    {
     "data": {
      "text/plain": [
       "13"
      ]
     },
     "execution_count": 14,
     "metadata": {},
     "output_type": "execute_result"
    }
   ],
   "source": [
    "len (n)"
   ]
  },
  {
   "cell_type": "code",
   "execution_count": 15,
   "id": "bff46ef0",
   "metadata": {},
   "outputs": [
    {
     "data": {
      "text/plain": [
       "'Thnda tarbooz'"
      ]
     },
     "execution_count": 15,
     "metadata": {},
     "output_type": "execute_result"
    }
   ],
   "source": [
    "#capitalize first letter\n",
    "n.capitalize()"
   ]
  },
  {
   "cell_type": "code",
   "execution_count": 17,
   "id": "9ea74425",
   "metadata": {},
   "outputs": [
    {
     "data": {
      "text/plain": [
       "'THNDA TARBOOZ'"
      ]
     },
     "execution_count": 17,
     "metadata": {},
     "output_type": "execute_result"
    }
   ],
   "source": [
    "#capitalize all letter\n",
    "n.upper()"
   ]
  },
  {
   "cell_type": "code",
   "execution_count": 19,
   "id": "2f365ae6",
   "metadata": {},
   "outputs": [
    {
     "data": {
      "text/plain": [
       "'thnda tarbooz'"
      ]
     },
     "execution_count": 19,
     "metadata": {},
     "output_type": "execute_result"
    }
   ],
   "source": [
    "#lowercase all letters\n",
    "n.lower()"
   ]
  },
  {
   "cell_type": "code",
   "execution_count": 22,
   "id": "252f2e1d",
   "metadata": {},
   "outputs": [
    {
     "data": {
      "text/plain": [
       "'shhnda sharbooz'"
      ]
     },
     "execution_count": 22,
     "metadata": {},
     "output_type": "execute_result"
    }
   ],
   "source": [
    "n.replace(\"t\",\"sh\")"
   ]
  },
  {
   "cell_type": "code",
   "execution_count": 25,
   "id": "bb927ba4",
   "metadata": {},
   "outputs": [
    {
     "data": {
      "text/plain": [
       "1"
      ]
     },
     "execution_count": 25,
     "metadata": {},
     "output_type": "execute_result"
    }
   ],
   "source": [
    "n.count(\"h\")"
   ]
  },
  {
   "cell_type": "markdown",
   "id": "69579d05",
   "metadata": {},
   "source": [
    "#finding indexing number in a string"
   ]
  },
  {
   "cell_type": "code",
   "execution_count": 26,
   "id": "5e572017",
   "metadata": {},
   "outputs": [
    {
     "data": {
      "text/plain": [
       "'abi khana khana hy'"
      ]
     },
     "execution_count": 26,
     "metadata": {},
     "output_type": "execute_result"
    }
   ],
   "source": [
    "kaam=\"abi khana khana hy\"\n",
    "kaam"
   ]
  },
  {
   "cell_type": "code",
   "execution_count": 27,
   "id": "816fc098",
   "metadata": {},
   "outputs": [
    {
     "data": {
      "text/plain": [
       "17"
      ]
     },
     "execution_count": 27,
     "metadata": {},
     "output_type": "execute_result"
    }
   ],
   "source": [
    "kaam.find(\"y\")"
   ]
  },
  {
   "cell_type": "markdown",
   "id": "fa4c24e4",
   "metadata": {},
   "source": [
    "## how to split a string"
   ]
  },
  {
   "cell_type": "code",
   "execution_count": 29,
   "id": "3ce37ee7",
   "metadata": {},
   "outputs": [
    {
     "data": {
      "text/plain": [
       "'i love smosa, pkora, and karahi'"
      ]
     },
     "execution_count": 29,
     "metadata": {},
     "output_type": "execute_result"
    }
   ],
   "source": [
    "food=\"i love smosa, pkora, and karahi\"\n",
    "food"
   ]
  },
  {
   "cell_type": "code",
   "execution_count": 30,
   "id": "bafb3c2d",
   "metadata": {},
   "outputs": [
    {
     "data": {
      "text/plain": [
       "['i love smosa', ' pkora', ' and karahi']"
      ]
     },
     "execution_count": 30,
     "metadata": {},
     "output_type": "execute_result"
    }
   ],
   "source": [
    "food.split(\",\")"
   ]
  },
  {
   "cell_type": "code",
   "execution_count": null,
   "id": "68567815",
   "metadata": {},
   "outputs": [],
   "source": []
  }
 ],
 "metadata": {
  "kernelspec": {
   "display_name": "Python 3 (ipykernel)",
   "language": "python",
   "name": "python3"
  },
  "language_info": {
   "codemirror_mode": {
    "name": "ipython",
    "version": 3
   },
   "file_extension": ".py",
   "mimetype": "text/x-python",
   "name": "python",
   "nbconvert_exporter": "python",
   "pygments_lexer": "ipython3",
   "version": "3.10.9"
  }
 },
 "nbformat": 4,
 "nbformat_minor": 5
}
